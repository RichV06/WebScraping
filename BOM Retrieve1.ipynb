{
 "cells": [
  {
   "cell_type": "code",
   "execution_count": null,
   "metadata": {},
   "outputs": [],
   "source": [
    "import pandas as pd\n",
    "from selenium import webdriver\n",
    "from selenium.webdriver.chrome.service import Service\n",
    "from selenium.webdriver.common.by import By\n",
    "from selenium.common.exceptions import NoSuchElementException\n",
    "from selenium.webdriver.support.ui import WebDriverWait\n",
    "from selenium.webdriver.support import expected_conditions as EC\n"
   ]
  },
  {
   "cell_type": "code",
   "execution_count": null,
   "metadata": {},
   "outputs": [],
   "source": [
    "product_ids = []\n"
   ]
  },
  {
   "cell_type": "code",
   "execution_count": null,
   "metadata": {},
   "outputs": [],
   "source": [
    "# Set the path to the ChromeDriver executable\n",
    "driver_path = '/path/to/chromedriver'\n",
    "\n",
    "# Configure the Selenium WebDriver using the Service object\n",
    "service = Service(driver_path)\n",
    "driver = webdriver.Chrome(service=service)\n",
    "\n",
    "# Define the output file path and create an empty DataFrame\n",
    "output_file = r'C:\\Users\\chaconri\\Desktop\\BOMS\\bom_data.xlsx'\n",
    "df_final = pd.DataFrame(columns=['Product ID', 'Component ID'])\n",
    "\n",
    "# Iterate over the Product_ID list\n",
    "for Product_ID in product_ids:\n",
    "    # Navigate to the webpage\n",
    "    base_url = \"https://mypimproweb.its.hpecorp.net/bomlookup/BOMComparison.aspx?src=PMG&part1={}&plant1=&usage1=3&alt1=1&part2={}&plant2=JK01&usage2=3&alt2=1&MultiLevel=X&View=S\"\n",
    "    url = base_url.format(Product_ID, Product_ID)\n",
    "    driver.get(url)\n",
    "\n",
    "    try:\n",
    "        # Find all the span elements with the given CSS selector\n",
    "        spans = driver.find_elements(By.CSS_SELECTOR, 'span[id^=\"dgdBOMCompare_Label1_\"]')\n",
    "\n",
    "        if len(spans) > 0:\n",
    "            # If spans are found, extract the span_content and create a DataFrame\n",
    "            span_content_list = [span.text for span in spans]\n",
    "            df = pd.DataFrame({'Product ID': [Product_ID] * len(span_content_list), 'Component ID': span_content_list})\n",
    "        else:\n",
    "            # If no spans are found, create a DataFrame with Product_ID in both columns\n",
    "            df = pd.DataFrame({'Product ID': [Product_ID], 'Component ID': [Product_ID]})\n",
    "\n",
    "        # Append the DataFrame to the final DataFrame\n",
    "        df_final = pd.concat([df_final, df], ignore_index=True)\n",
    "\n",
    "    except NoSuchElementException:\n",
    "        pass\n",
    "\n",
    "# Export the final DataFrame to Excel\n",
    "df_final.to_excel(output_file, index=False)\n",
    "\n",
    "# Close the browser\n",
    "driver.quit()"
   ]
  }
 ],
 "metadata": {
  "kernelspec": {
   "display_name": "Python 3",
   "language": "python",
   "name": "python3"
  },
  "language_info": {
   "name": "python",
   "version": "3.11.5"
  },
  "orig_nbformat": 4
 },
 "nbformat": 4,
 "nbformat_minor": 2
}
